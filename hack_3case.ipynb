{
 "cells": [
  {
   "cell_type": "markdown",
   "id": "4f27cc86",
   "metadata": {
    "toc": true
   },
   "source": [
    "<h1>Table of Contents<span class=\"tocSkip\"></span></h1>\n",
    "<div class=\"toc\"><ul class=\"toc-item\"><li><span><a href=\"#Создание-разметки\" data-toc-modified-id=\"Создание-разметки-1\">Создание разметки</a></span><ul class=\"toc-item\"><li><span><a href=\"#Загрузка-данных\" data-toc-modified-id=\"Загрузка-данных-1.1\">Загрузка данных</a></span></li><li><span><a href=\"#Функции-и-константы\" data-toc-modified-id=\"Функции-и-константы-1.2\">Функции и константы</a></span><ul class=\"toc-item\"><li><span><a href=\"#Get\" data-toc-modified-id=\"Get-1.2.1\">Get</a></span></li><li><span><a href=\"#Outliers\" data-toc-modified-id=\"Outliers-1.2.2\">Outliers</a></span></li><li><span><a href=\"#Уменьшение-категорий-в-фичах\" data-toc-modified-id=\"Уменьшение-категорий-в-фичах-1.2.3\">Уменьшение категорий в фичах</a></span></li><li><span><a href=\"#Разметка\" data-toc-modified-id=\"Разметка-1.2.4\">Разметка</a></span></li><li><span><a href=\"#Количество-потоков-в-вычислении\" data-toc-modified-id=\"Количество-потоков-в-вычислении-1.2.5\">Количество потоков в вычислении</a></span></li></ul></li><li><span><a href=\"#Sample_100\" data-toc-modified-id=\"Sample_100-1.3\">Sample_100</a></span></li><li><span><a href=\"#Sample_10k\" data-toc-modified-id=\"Sample_10k-1.4\">Sample_10k</a></span></li></ul></li><li><span><a href=\"#Работа-с-размеченными-данными\" data-toc-modified-id=\"Работа-с-размеченными-данными-2\">Работа с размеченными данными</a></span><ul class=\"toc-item\"><li><span><a href=\"#Загрузка-размеченных-данных\" data-toc-modified-id=\"Загрузка-размеченных-данных-2.1\">Загрузка размеченных данных</a></span></li><li><span><a href=\"#Удаление-дубликатов\" data-toc-modified-id=\"Удаление-дубликатов-2.2\">Удаление дубликатов</a></span></li><li><span><a href=\"#Создание-фичей\" data-toc-modified-id=\"Создание-фичей-2.3\">Создание фичей</a></span></li><li><span><a href=\"#Разработка-модели\" data-toc-modified-id=\"Разработка-модели-2.4\">Разработка модели</a></span><ul class=\"toc-item\"><li><span><a href=\"#Features-&amp;-Target\" data-toc-modified-id=\"Features-&amp;-Target-2.4.1\">Features &amp; Target</a></span></li><li><span><a href=\"#Train-&amp;-Test\" data-toc-modified-id=\"Train-&amp;-Test-2.4.2\">Train &amp; Test</a></span></li><li><span><a href=\"#Подбор-гипперпараметров-модели\" data-toc-modified-id=\"Подбор-гипперпараметров-модели-2.4.3\">Подбор гипперпараметров модели</a></span></li></ul></li><li><span><a href=\"#Тестирование-модели\" data-toc-modified-id=\"Тестирование-модели-2.5\">Тестирование модели</a></span></li><li><span><a href=\"#Feature-importances\" data-toc-modified-id=\"Feature-importances-2.6\">Feature importances</a></span></li><li><span><a href=\"#Категоризация-хостов\" data-toc-modified-id=\"Категоризация-хостов-2.7\">Категоризация хостов</a></span></li></ul></li></ul></div>"
   ]
  },
  {
   "cell_type": "markdown",
   "id": "1fcb9d3d",
   "metadata": {},
   "source": [
    "# Создание разметки"
   ]
  },
  {
   "cell_type": "code",
   "execution_count": 1,
   "id": "e4a3d30a",
   "metadata": {},
   "outputs": [],
   "source": [
    "import os\n",
    "import re\n",
    "import time\n",
    "import math\n",
    "import requests\n",
    "import numpy as np\n",
    "import pandas as pd\n",
    "from IPython.display import HTML\n",
    "\n",
    "from concurrent.futures import ThreadPoolExecutor\n",
    "\n",
    "from datetime import datetime, timedelta\n",
    "\n",
    "import matplotlib.pyplot as plt\n",
    "import seaborn as sns\n",
    "\n",
    "#import plotly\n",
    "#import plotly.offline as py #working offline\n",
    "#import plotly.graph_objs as go\n",
    "#import plotly.express as px\n",
    "\n",
    "from sklearn.model_selection import train_test_split\n",
    "from sklearn.model_selection import cross_val_score\n",
    "from sklearn.metrics import precision_score\n",
    "\n",
    "from catboost import CatBoostClassifier"
   ]
  },
  {
   "cell_type": "code",
   "execution_count": 2,
   "id": "37e17dfa",
   "metadata": {},
   "outputs": [],
   "source": [
    "import warnings\n",
    "warnings.filterwarnings(\"ignore\")"
   ]
  },
  {
   "cell_type": "code",
   "execution_count": 3,
   "id": "2176c1c3",
   "metadata": {},
   "outputs": [],
   "source": [
    "#py.init_notebook_mode()\n",
    "sns.set_theme(style='whitegrid')\n",
    "plt.rcParams[\"figure.figsize\"] = (18,6)\n",
    "plt.rcParams[\"figure.dpi\"] = 80\n",
    "plt.rcParams[\"figure.titlesize\"] = 20\n",
    "plt.rcParams[\"axes.labelsize\"] = 14\n",
    "plt.rcParams[\"axes.titlesize\"] = 16\n",
    "plt.rcParams[\"xtick.labelsize\"] = 12\n",
    "plt.rcParams[\"ytick.labelsize\"] = 12"
   ]
  },
  {
   "cell_type": "markdown",
   "id": "9448144a",
   "metadata": {},
   "source": [
    "## Загрузка данных"
   ]
  },
  {
   "cell_type": "code",
   "execution_count": 4,
   "id": "1ac1714c",
   "metadata": {},
   "outputs": [],
   "source": [
    "path = r'd:\\Мои документы\\datasets\\mtc'\n",
    "\n",
    "file_name = 'host_hachathon.csv'\n",
    "all_data = 'host.csv'\n",
    "\n",
    "df = pd.read_csv(os.path.join(path, file_name), header = None, names=['domen_name'])\n",
    "all_data = pd.read_csv(os.path.join(path, all_data), header = None, names=['domen_name'])"
   ]
  },
  {
   "cell_type": "code",
   "execution_count": 6,
   "id": "86b48fc6",
   "metadata": {},
   "outputs": [
    {
     "data": {
      "text/html": [
       "<div>\n",
       "<style scoped>\n",
       "    .dataframe tbody tr th:only-of-type {\n",
       "        vertical-align: middle;\n",
       "    }\n",
       "\n",
       "    .dataframe tbody tr th {\n",
       "        vertical-align: top;\n",
       "    }\n",
       "\n",
       "    .dataframe thead th {\n",
       "        text-align: right;\n",
       "    }\n",
       "</style>\n",
       "<table border=\"1\" class=\"dataframe\">\n",
       "  <thead>\n",
       "    <tr style=\"text-align: right;\">\n",
       "      <th></th>\n",
       "      <th>domen_name</th>\n",
       "    </tr>\n",
       "  </thead>\n",
       "  <tbody>\n",
       "    <tr>\n",
       "      <th>0</th>\n",
       "      <td>api.youla.io</td>\n",
       "    </tr>\n",
       "    <tr>\n",
       "      <th>1</th>\n",
       "      <td>favicon.yandex.net</td>\n",
       "    </tr>\n",
       "    <tr>\n",
       "      <th>2</th>\n",
       "      <td>w-74721.fp.kaspersky-labs.com</td>\n",
       "    </tr>\n",
       "    <tr>\n",
       "      <th>3</th>\n",
       "      <td>questtime.net</td>\n",
       "    </tr>\n",
       "    <tr>\n",
       "      <th>4</th>\n",
       "      <td>passport-authproxy.taxi.yandex.net</td>\n",
       "    </tr>\n",
       "    <tr>\n",
       "      <th>...</th>\n",
       "      <td>...</td>\n",
       "    </tr>\n",
       "    <tr>\n",
       "      <th>199939</th>\n",
       "      <td>m39.hefxosi.com</td>\n",
       "    </tr>\n",
       "    <tr>\n",
       "      <th>199940</th>\n",
       "      <td>m42.ytoxcrj.com</td>\n",
       "    </tr>\n",
       "    <tr>\n",
       "      <th>199941</th>\n",
       "      <td>m5.fupppzz.net</td>\n",
       "    </tr>\n",
       "    <tr>\n",
       "      <th>199942</th>\n",
       "      <td>m5.ehgeqxn.me</td>\n",
       "    </tr>\n",
       "    <tr>\n",
       "      <th>199943</th>\n",
       "      <td>m9.igoxzza.com</td>\n",
       "    </tr>\n",
       "  </tbody>\n",
       "</table>\n",
       "<p>199944 rows × 1 columns</p>\n",
       "</div>"
      ],
      "text/plain": [
       "                                domen_name\n",
       "0                             api.youla.io\n",
       "1                       favicon.yandex.net\n",
       "2            w-74721.fp.kaspersky-labs.com\n",
       "3                            questtime.net\n",
       "4       passport-authproxy.taxi.yandex.net\n",
       "...                                    ...\n",
       "199939                     m39.hefxosi.com\n",
       "199940                     m42.ytoxcrj.com\n",
       "199941                      m5.fupppzz.net\n",
       "199942                       m5.ehgeqxn.me\n",
       "199943                      m9.igoxzza.com\n",
       "\n",
       "[199944 rows x 1 columns]"
      ]
     },
     "execution_count": 6,
     "metadata": {},
     "output_type": "execute_result"
    }
   ],
   "source": [
    "all_data.drop_duplicates(subset=['domen_name'], inplace=True, ignore_index=True)\n",
    "all_data"
   ]
  },
  {
   "cell_type": "code",
   "execution_count": 5,
   "id": "5fb59393",
   "metadata": {},
   "outputs": [],
   "source": [
    "df_sample = all_data.sample(n=10000, random_state=42).reset_index(drop=True).copy()"
   ]
  },
  {
   "cell_type": "markdown",
   "id": "cc3f8236",
   "metadata": {},
   "source": [
    "## Функции и константы"
   ]
  },
  {
   "cell_type": "markdown",
   "id": "3be5a421",
   "metadata": {},
   "source": [
    "### Get"
   ]
  },
  {
   "cell_type": "code",
   "execution_count": 7,
   "id": "2c36d962",
   "metadata": {},
   "outputs": [],
   "source": [
    "def get_func(x):\n",
    "    try:\n",
    "        r = requests.get(x, timeout=3)#.headers['Content-Type']\n",
    "        r.headers['Content-Type']\n",
    "        return 0, r.status_code\n",
    "    except:\n",
    "        return 1, None"
   ]
  },
  {
   "cell_type": "markdown",
   "id": "5334b829",
   "metadata": {},
   "source": [
    "### Outliers"
   ]
  },
  {
   "cell_type": "code",
   "execution_count": 8,
   "id": "d790738f",
   "metadata": {},
   "outputs": [],
   "source": [
    "def drop_outliers(series, n_of_iqr=1.5):\n",
    "    q75, q25 = np.nanpercentile(series,(75,25))\n",
    "    iqr = q75 - q25\n",
    "\n",
    "    max_value = q75 + (n_of_iqr * iqr)\n",
    "    min_value = q25 - (n_of_iqr * iqr)\n",
    "\n",
    "    series.loc[series < min_value] = np.nan\n",
    "    series.loc[series > max_value] = np.nan"
   ]
  },
  {
   "cell_type": "markdown",
   "id": "c45d9280",
   "metadata": {},
   "source": [
    "### Уменьшение категорий в фичах"
   ]
  },
  {
   "cell_type": "code",
   "execution_count": 9,
   "id": "1e74c322",
   "metadata": {},
   "outputs": [],
   "source": [
    "def cat_featering(feature_name):\n",
    "    series = df_sample[feature_name].value_counts(normalize=True).copy()\n",
    "    drop_outliers(series)\n",
    "\n",
    "    df_sample[feature_name] = df_sample[feature_name].apply(lambda x: 'OTHER' if x in series.dropna().index else x)\n",
    "    del series\n",
    "    #return df_sample[feature_name].value_counts(normalize=True)"
   ]
  },
  {
   "cell_type": "markdown",
   "id": "7011cb36",
   "metadata": {},
   "source": [
    "### Разметка"
   ]
  },
  {
   "cell_type": "code",
   "execution_count": 41,
   "id": "3f137f02",
   "metadata": {},
   "outputs": [],
   "source": [
    "def labelin_func(df, Thread=8):\n",
    "    urls = df.iloc[:,0].apply(lambda x: f'http://{x}').to_list()\n",
    "\n",
    "    start_time = time.time()\n",
    "\n",
    "    with ThreadPoolExecutor(Thread) as executor:\n",
    "        result = executor.map(get_func, urls)\n",
    "\n",
    "    df['label'] = pd.Series(result)\n",
    "    df['status_code'] = df['label'].apply(lambda x: str(x[1]))\n",
    "    df['label'] = df['label'].apply(lambda x: x[0])\n",
    "\n",
    "    spent_time = time.time() - start_time\n",
    "\n",
    "    display(spent_time)\n",
    "    return df"
   ]
  },
  {
   "cell_type": "markdown",
   "id": "c2dcece8",
   "metadata": {},
   "source": [
    "### Количество потоков в вычислении"
   ]
  },
  {
   "cell_type": "code",
   "execution_count": 10,
   "id": "5032fb34",
   "metadata": {},
   "outputs": [],
   "source": [
    "Thread = 32"
   ]
  },
  {
   "cell_type": "markdown",
   "id": "f7ec61af",
   "metadata": {},
   "source": [
    "## Sample_100"
   ]
  },
  {
   "cell_type": "markdown",
   "id": "9c35dd99",
   "metadata": {},
   "source": [
    "```python\n",
    "df['label'] = labelin_func(df)\n",
    "```"
   ]
  },
  {
   "cell_type": "markdown",
   "id": "c95b5f3e",
   "metadata": {},
   "source": [
    "## Sample_10k"
   ]
  },
  {
   "cell_type": "markdown",
   "id": "e67d47e2",
   "metadata": {},
   "source": [
    "```python\n",
    "df_sample['label'] = labelin_func(df_sample)\n",
    "```"
   ]
  },
  {
   "cell_type": "markdown",
   "id": "994e8b4f",
   "metadata": {},
   "source": [
    "```python\n",
    "file_name = 'df_with_label_10k.csv'\n",
    "df_sample.to_csv(os.path.join(path, file_name), index=True)\n",
    "```"
   ]
  },
  {
   "cell_type": "markdown",
   "id": "dfcf0ab8",
   "metadata": {},
   "source": [
    "# Работа с размеченными данными"
   ]
  },
  {
   "cell_type": "markdown",
   "id": "c407b3f0",
   "metadata": {},
   "source": [
    "## Загрузка размеченных данных"
   ]
  },
  {
   "cell_type": "code",
   "execution_count": 12,
   "id": "788b93a5",
   "metadata": {},
   "outputs": [
    {
     "data": {
      "text/html": [
       "<div>\n",
       "<style scoped>\n",
       "    .dataframe tbody tr th:only-of-type {\n",
       "        vertical-align: middle;\n",
       "    }\n",
       "\n",
       "    .dataframe tbody tr th {\n",
       "        vertical-align: top;\n",
       "    }\n",
       "\n",
       "    .dataframe thead th {\n",
       "        text-align: right;\n",
       "    }\n",
       "</style>\n",
       "<table border=\"1\" class=\"dataframe\">\n",
       "  <thead>\n",
       "    <tr style=\"text-align: right;\">\n",
       "      <th></th>\n",
       "      <th>domen_name</th>\n",
       "      <th>url</th>\n",
       "      <th>label</th>\n",
       "      <th>status_code</th>\n",
       "    </tr>\n",
       "  </thead>\n",
       "  <tbody>\n",
       "    <tr>\n",
       "      <th>0</th>\n",
       "      <td>clientservices.googleapis.com</td>\n",
       "      <td>http://clientservices.googleapis.com</td>\n",
       "      <td>0</td>\n",
       "      <td>404</td>\n",
       "    </tr>\n",
       "    <tr>\n",
       "      <th>1</th>\n",
       "      <td>ads.travelaudience.com</td>\n",
       "      <td>http://ads.travelaudience.com</td>\n",
       "      <td>1</td>\n",
       "      <td>None</td>\n",
       "    </tr>\n",
       "    <tr>\n",
       "      <th>2</th>\n",
       "      <td>4d50bf49a3c12010ab594dff7964a3ca.safeframe.goo...</td>\n",
       "      <td>http://4d50bf49a3c12010ab594dff7964a3ca.safefr...</td>\n",
       "      <td>0</td>\n",
       "      <td>404</td>\n",
       "    </tr>\n",
       "    <tr>\n",
       "      <th>3</th>\n",
       "      <td>c.whatsapp.net</td>\n",
       "      <td>http://c.whatsapp.net</td>\n",
       "      <td>1</td>\n",
       "      <td>None</td>\n",
       "    </tr>\n",
       "    <tr>\n",
       "      <th>4</th>\n",
       "      <td>dmp.gotechnology.io</td>\n",
       "      <td>http://dmp.gotechnology.io</td>\n",
       "      <td>0</td>\n",
       "      <td>403</td>\n",
       "    </tr>\n",
       "    <tr>\n",
       "      <th>...</th>\n",
       "      <td>...</td>\n",
       "      <td>...</td>\n",
       "      <td>...</td>\n",
       "      <td>...</td>\n",
       "    </tr>\n",
       "    <tr>\n",
       "      <th>19995</th>\n",
       "      <td>d280pffqtvekyf.cloudfront.net</td>\n",
       "      <td>http://d280pffqtvekyf.cloudfront.net</td>\n",
       "      <td>0</td>\n",
       "      <td>403</td>\n",
       "    </tr>\n",
       "    <tr>\n",
       "      <th>19996</th>\n",
       "      <td>yandex.st</td>\n",
       "      <td>http://yandex.st</td>\n",
       "      <td>0</td>\n",
       "      <td>200</td>\n",
       "    </tr>\n",
       "    <tr>\n",
       "      <th>19997</th>\n",
       "      <td>ocsp.usertrust.com</td>\n",
       "      <td>http://ocsp.usertrust.com</td>\n",
       "      <td>0</td>\n",
       "      <td>200</td>\n",
       "    </tr>\n",
       "    <tr>\n",
       "      <th>19998</th>\n",
       "      <td>cloud-api.yandex.net</td>\n",
       "      <td>http://cloud-api.yandex.net</td>\n",
       "      <td>1</td>\n",
       "      <td>None</td>\n",
       "    </tr>\n",
       "    <tr>\n",
       "      <th>19999</th>\n",
       "      <td>abt-prod-us-east-1-content-star-132865627.us-e...</td>\n",
       "      <td>http://abt-prod-us-east-1-content-star-1328656...</td>\n",
       "      <td>1</td>\n",
       "      <td>None</td>\n",
       "    </tr>\n",
       "  </tbody>\n",
       "</table>\n",
       "<p>20000 rows × 4 columns</p>\n",
       "</div>"
      ],
      "text/plain": [
       "                                              domen_name  \\\n",
       "0                          clientservices.googleapis.com   \n",
       "1                                 ads.travelaudience.com   \n",
       "2      4d50bf49a3c12010ab594dff7964a3ca.safeframe.goo...   \n",
       "3                                         c.whatsapp.net   \n",
       "4                                    dmp.gotechnology.io   \n",
       "...                                                  ...   \n",
       "19995                      d280pffqtvekyf.cloudfront.net   \n",
       "19996                                          yandex.st   \n",
       "19997                                 ocsp.usertrust.com   \n",
       "19998                               cloud-api.yandex.net   \n",
       "19999  abt-prod-us-east-1-content-star-132865627.us-e...   \n",
       "\n",
       "                                                     url  label status_code  \n",
       "0                   http://clientservices.googleapis.com      0         404  \n",
       "1                          http://ads.travelaudience.com      1        None  \n",
       "2      http://4d50bf49a3c12010ab594dff7964a3ca.safefr...      0         404  \n",
       "3                                  http://c.whatsapp.net      1        None  \n",
       "4                             http://dmp.gotechnology.io      0         403  \n",
       "...                                                  ...    ...         ...  \n",
       "19995               http://d280pffqtvekyf.cloudfront.net      0         403  \n",
       "19996                                   http://yandex.st      0         200  \n",
       "19997                          http://ocsp.usertrust.com      0         200  \n",
       "19998                        http://cloud-api.yandex.net      1        None  \n",
       "19999  http://abt-prod-us-east-1-content-star-1328656...      1        None  \n",
       "\n",
       "[20000 rows x 4 columns]"
      ]
     },
     "execution_count": 12,
     "metadata": {},
     "output_type": "execute_result"
    }
   ],
   "source": [
    "path = r'd:\\Мои документы\\datasets\\mtc'\n",
    "file_name_1 = 'df_with_label.csv'\n",
    "file_name_2 = 'df_with_label_30_40.csv'\n",
    "#file_name = 'host_processed.csv'\n",
    "#df_sample = pd.read_csv(os.path.join(path, file_name), header = None, names=['domen_name'])\n",
    "\n",
    "df_sample_1 = pd.read_csv(os.path.join(path, file_name_1)).drop(columns=['Unnamed: 0'])\n",
    "df_sample_2 = pd.read_csv(os.path.join(path, file_name_2)).drop(columns=['Unnamed: 0'])\n",
    "df_sample = pd.concat([df_sample_1, df_sample_2], ignore_index=True)\n",
    "df_sample"
   ]
  },
  {
   "cell_type": "markdown",
   "id": "431c1c0d",
   "metadata": {},
   "source": [
    "## Удаление дубликатов"
   ]
  },
  {
   "cell_type": "code",
   "execution_count": 13,
   "id": "6967b975",
   "metadata": {},
   "outputs": [],
   "source": [
    "df_sample.drop_duplicates(subset=['domen_name'], inplace=True, ignore_index=True)"
   ]
  },
  {
   "cell_type": "code",
   "execution_count": 14,
   "id": "0760b2c0",
   "metadata": {},
   "outputs": [
    {
     "data": {
      "text/plain": [
       "(10178, 4)"
      ]
     },
     "execution_count": 14,
     "metadata": {},
     "output_type": "execute_result"
    }
   ],
   "source": [
    "df_sample.shape"
   ]
  },
  {
   "cell_type": "code",
   "execution_count": 15,
   "id": "65a4b567",
   "metadata": {},
   "outputs": [
    {
     "data": {
      "text/plain": [
       "0    0.768127\n",
       "1    0.231873\n",
       "Name: label, dtype: float64"
      ]
     },
     "execution_count": 15,
     "metadata": {},
     "output_type": "execute_result"
    }
   ],
   "source": [
    "df_sample['label'].value_counts(normalize=True)"
   ]
  },
  {
   "cell_type": "markdown",
   "id": "9d2f677f",
   "metadata": {},
   "source": [
    "## Создание фичей"
   ]
  },
  {
   "cell_type": "code",
   "execution_count": 16,
   "id": "23538484",
   "metadata": {},
   "outputs": [],
   "source": [
    "df_sample['domen_name'] = df_sample['domen_name'].str.strip()\n",
    "df_sample['top_domen'] = df_sample['domen_name'].apply(lambda x: x.split('.')[-1])\n",
    "df_sample['2_domen'] = df_sample['domen_name'].apply(lambda x: x.split('.')[-2])\n",
    "df_sample['3_domen'] = df_sample['domen_name'].apply(lambda x: x.split('.')[-3] if len(x.split('.')) > 2 else None)\n",
    "\n",
    "df_sample['domen_len'] = df_sample['domen_name'].apply(lambda x: len(x.split('.')))\n",
    "df_sample['len_coeff'] = df_sample['domen_name'].apply(lambda x: len(''.join(x.split('.'))) / len(x.split('.')))"
   ]
  },
  {
   "cell_type": "code",
   "execution_count": 17,
   "id": "3d9145a7",
   "metadata": {},
   "outputs": [
    {
     "data": {
      "text/plain": [
       "domen_name        0\n",
       "url               0\n",
       "label             0\n",
       "status_code       0\n",
       "top_domen         0\n",
       "2_domen           0\n",
       "3_domen        1027\n",
       "domen_len         0\n",
       "len_coeff         0\n",
       "dtype: int64"
      ]
     },
     "execution_count": 17,
     "metadata": {},
     "output_type": "execute_result"
    }
   ],
   "source": [
    "df_sample.isna().sum()"
   ]
  },
  {
   "cell_type": "code",
   "execution_count": 18,
   "id": "894ad5af",
   "metadata": {},
   "outputs": [],
   "source": [
    "df_sample['3_domen'].fillna('EMPTY', inplace=True)"
   ]
  },
  {
   "cell_type": "code",
   "execution_count": 19,
   "id": "fdd1f79b",
   "metadata": {},
   "outputs": [
    {
     "data": {
      "image/png": "[encoded data removed]",
      "text/plain": [
       "<Figure size 1440x480 with 1 Axes>"
      ]
     },
     "metadata": {},
     "output_type": "display_data"
    }
   ],
   "source": [
    "sns.histplot(df_sample['len_coeff'], bins=25)\n",
    "plt.show()"
   ]
  },
  {
   "cell_type": "code",
   "execution_count": 20,
   "id": "e7589b4f",
   "metadata": {},
   "outputs": [],
   "source": [
    "cat_featering('top_domen')\n",
    "cat_featering('2_domen')\n",
    "cat_featering('3_domen')"
   ]
  },
  {
   "cell_type": "code",
   "execution_count": 21,
   "id": "4e27d7ef",
   "metadata": {},
   "outputs": [],
   "source": [
    "cat_features = ['top_domen', '2_domen', '3_domen']#'status_code',\n",
    "num_features = ['domen_len', 'len_coeff']\n",
    "\n",
    "df_sample[cat_features] = df_sample[cat_features].astype('category')"
   ]
  },
  {
   "cell_type": "code",
   "execution_count": 22,
   "id": "b9f0dd40",
   "metadata": {},
   "outputs": [
    {
     "name": "stdout",
     "output_type": "stream",
     "text": [
      "<class 'pandas.core.frame.DataFrame'>\n",
      "RangeIndex: 10178 entries, 0 to 10177\n",
      "Data columns (total 9 columns):\n",
      " #   Column       Non-Null Count  Dtype   \n",
      "---  ------       --------------  -----   \n",
      " 0   domen_name   10178 non-null  object  \n",
      " 1   url          10178 non-null  object  \n",
      " 2   label        10178 non-null  int64   \n",
      " 3   status_code  10178 non-null  object  \n",
      " 4   top_domen    10178 non-null  category\n",
      " 5   2_domen      10178 non-null  category\n",
      " 6   3_domen      10178 non-null  category\n",
      " 7   domen_len    10178 non-null  int64   \n",
      " 8   len_coeff    10178 non-null  float64 \n",
      "dtypes: category(3), float64(1), int64(2), object(3)\n",
      "memory usage: 567.9+ KB\n"
     ]
    }
   ],
   "source": [
    "df_sample.info()"
   ]
  },
  {
   "cell_type": "code",
   "execution_count": 23,
   "id": "b17d954b",
   "metadata": {},
   "outputs": [
    {
     "data": {
      "text/html": [
       "<div>\n",
       "<style scoped>\n",
       "    .dataframe tbody tr th:only-of-type {\n",
       "        vertical-align: middle;\n",
       "    }\n",
       "\n",
       "    .dataframe tbody tr th {\n",
       "        vertical-align: top;\n",
       "    }\n",
       "\n",
       "    .dataframe thead th {\n",
       "        text-align: right;\n",
       "    }\n",
       "</style>\n",
       "<table border=\"1\" class=\"dataframe\">\n",
       "  <thead>\n",
       "    <tr style=\"text-align: right;\">\n",
       "      <th></th>\n",
       "      <th>domen_name</th>\n",
       "      <th>url</th>\n",
       "      <th>label</th>\n",
       "      <th>status_code</th>\n",
       "      <th>top_domen</th>\n",
       "      <th>2_domen</th>\n",
       "      <th>3_domen</th>\n",
       "      <th>domen_len</th>\n",
       "      <th>len_coeff</th>\n",
       "    </tr>\n",
       "  </thead>\n",
       "  <tbody>\n",
       "    <tr>\n",
       "      <th>0</th>\n",
       "      <td>clientservices.googleapis.com</td>\n",
       "      <td>http://clientservices.googleapis.com</td>\n",
       "      <td>0</td>\n",
       "      <td>404</td>\n",
       "      <td>com</td>\n",
       "      <td>googleapis</td>\n",
       "      <td>OTHER</td>\n",
       "      <td>3</td>\n",
       "      <td>9.000000</td>\n",
       "    </tr>\n",
       "    <tr>\n",
       "      <th>1</th>\n",
       "      <td>ads.travelaudience.com</td>\n",
       "      <td>http://ads.travelaudience.com</td>\n",
       "      <td>1</td>\n",
       "      <td>None</td>\n",
       "      <td>com</td>\n",
       "      <td>OTHER</td>\n",
       "      <td>ads</td>\n",
       "      <td>3</td>\n",
       "      <td>6.666667</td>\n",
       "    </tr>\n",
       "    <tr>\n",
       "      <th>2</th>\n",
       "      <td>4d50bf49a3c12010ab594dff7964a3ca.safeframe.goo...</td>\n",
       "      <td>http://4d50bf49a3c12010ab594dff7964a3ca.safefr...</td>\n",
       "      <td>0</td>\n",
       "      <td>404</td>\n",
       "      <td>com</td>\n",
       "      <td>googlesyndication</td>\n",
       "      <td>safeframe</td>\n",
       "      <td>4</td>\n",
       "      <td>15.250000</td>\n",
       "    </tr>\n",
       "    <tr>\n",
       "      <th>3</th>\n",
       "      <td>c.whatsapp.net</td>\n",
       "      <td>http://c.whatsapp.net</td>\n",
       "      <td>1</td>\n",
       "      <td>None</td>\n",
       "      <td>net</td>\n",
       "      <td>whatsapp</td>\n",
       "      <td>c</td>\n",
       "      <td>3</td>\n",
       "      <td>4.000000</td>\n",
       "    </tr>\n",
       "    <tr>\n",
       "      <th>4</th>\n",
       "      <td>dmp.gotechnology.io</td>\n",
       "      <td>http://dmp.gotechnology.io</td>\n",
       "      <td>0</td>\n",
       "      <td>403</td>\n",
       "      <td>io</td>\n",
       "      <td>OTHER</td>\n",
       "      <td>dmp</td>\n",
       "      <td>3</td>\n",
       "      <td>5.666667</td>\n",
       "    </tr>\n",
       "    <tr>\n",
       "      <th>...</th>\n",
       "      <td>...</td>\n",
       "      <td>...</td>\n",
       "      <td>...</td>\n",
       "      <td>...</td>\n",
       "      <td>...</td>\n",
       "      <td>...</td>\n",
       "      <td>...</td>\n",
       "      <td>...</td>\n",
       "      <td>...</td>\n",
       "    </tr>\n",
       "    <tr>\n",
       "      <th>10173</th>\n",
       "      <td>www.superjob.ru</td>\n",
       "      <td>http://www.superjob.ru</td>\n",
       "      <td>0</td>\n",
       "      <td>200</td>\n",
       "      <td>ru</td>\n",
       "      <td>OTHER</td>\n",
       "      <td>www</td>\n",
       "      <td>3</td>\n",
       "      <td>4.333333</td>\n",
       "    </tr>\n",
       "    <tr>\n",
       "      <th>10174</th>\n",
       "      <td>tiktok-lb-maliva.byteoversea.net</td>\n",
       "      <td>http://tiktok-lb-maliva.byteoversea.net</td>\n",
       "      <td>0</td>\n",
       "      <td>404</td>\n",
       "      <td>net</td>\n",
       "      <td>byteoversea</td>\n",
       "      <td>OTHER</td>\n",
       "      <td>3</td>\n",
       "      <td>10.000000</td>\n",
       "    </tr>\n",
       "    <tr>\n",
       "      <th>10175</th>\n",
       "      <td>783419937.verify.yandex.ru</td>\n",
       "      <td>http://783419937.verify.yandex.ru</td>\n",
       "      <td>0</td>\n",
       "      <td>404</td>\n",
       "      <td>ru</td>\n",
       "      <td>yandex</td>\n",
       "      <td>verify</td>\n",
       "      <td>4</td>\n",
       "      <td>5.750000</td>\n",
       "    </tr>\n",
       "    <tr>\n",
       "      <th>10176</th>\n",
       "      <td>1442490661.verify.yandex.ru</td>\n",
       "      <td>http://1442490661.verify.yandex.ru</td>\n",
       "      <td>0</td>\n",
       "      <td>404</td>\n",
       "      <td>ru</td>\n",
       "      <td>yandex</td>\n",
       "      <td>verify</td>\n",
       "      <td>4</td>\n",
       "      <td>6.000000</td>\n",
       "    </tr>\n",
       "    <tr>\n",
       "      <th>10177</th>\n",
       "      <td>abt-prod-us-east-1-content-star-132865627.us-e...</td>\n",
       "      <td>http://abt-prod-us-east-1-content-star-1328656...</td>\n",
       "      <td>1</td>\n",
       "      <td>None</td>\n",
       "      <td>OTHER</td>\n",
       "      <td>elb</td>\n",
       "      <td>us-east-1</td>\n",
       "      <td>4</td>\n",
       "      <td>15.250000</td>\n",
       "    </tr>\n",
       "  </tbody>\n",
       "</table>\n",
       "<p>10178 rows × 9 columns</p>\n",
       "</div>"
      ],
      "text/plain": [
       "                                              domen_name  \\\n",
       "0                          clientservices.googleapis.com   \n",
       "1                                 ads.travelaudience.com   \n",
       "2      4d50bf49a3c12010ab594dff7964a3ca.safeframe.goo...   \n",
       "3                                         c.whatsapp.net   \n",
       "4                                    dmp.gotechnology.io   \n",
       "...                                                  ...   \n",
       "10173                                    www.superjob.ru   \n",
       "10174                   tiktok-lb-maliva.byteoversea.net   \n",
       "10175                         783419937.verify.yandex.ru   \n",
       "10176                        1442490661.verify.yandex.ru   \n",
       "10177  abt-prod-us-east-1-content-star-132865627.us-e...   \n",
       "\n",
       "                                                     url  label status_code  \\\n",
       "0                   http://clientservices.googleapis.com      0         404   \n",
       "1                          http://ads.travelaudience.com      1        None   \n",
       "2      http://4d50bf49a3c12010ab594dff7964a3ca.safefr...      0         404   \n",
       "3                                  http://c.whatsapp.net      1        None   \n",
       "4                             http://dmp.gotechnology.io      0         403   \n",
       "...                                                  ...    ...         ...   \n",
       "10173                             http://www.superjob.ru      0         200   \n",
       "10174            http://tiktok-lb-maliva.byteoversea.net      0         404   \n",
       "10175                  http://783419937.verify.yandex.ru      0         404   \n",
       "10176                 http://1442490661.verify.yandex.ru      0         404   \n",
       "10177  http://abt-prod-us-east-1-content-star-1328656...      1        None   \n",
       "\n",
       "      top_domen            2_domen    3_domen  domen_len  len_coeff  \n",
       "0           com         googleapis      OTHER          3   9.000000  \n",
       "1           com              OTHER        ads          3   6.666667  \n",
       "2           com  googlesyndication  safeframe          4  15.250000  \n",
       "3           net           whatsapp          c          3   4.000000  \n",
       "4            io              OTHER        dmp          3   5.666667  \n",
       "...         ...                ...        ...        ...        ...  \n",
       "10173        ru              OTHER        www          3   4.333333  \n",
       "10174       net        byteoversea      OTHER          3  10.000000  \n",
       "10175        ru             yandex     verify          4   5.750000  \n",
       "10176        ru             yandex     verify          4   6.000000  \n",
       "10177     OTHER                elb  us-east-1          4  15.250000  \n",
       "\n",
       "[10178 rows x 9 columns]"
      ]
     },
     "execution_count": 23,
     "metadata": {},
     "output_type": "execute_result"
    }
   ],
   "source": [
    "df_sample"
   ]
  },
  {
   "cell_type": "markdown",
   "id": "bd174cdf",
   "metadata": {},
   "source": [
    "## Разработка модели"
   ]
  },
  {
   "cell_type": "markdown",
   "id": "bbf2170b",
   "metadata": {},
   "source": [
    "### Features & Target"
   ]
  },
  {
   "cell_type": "code",
   "execution_count": 24,
   "id": "e07624a9",
   "metadata": {},
   "outputs": [],
   "source": [
    "features = df_sample.drop(columns=['domen_name', 'url', 'label', 'status_code'])\n",
    "target = df_sample['label']"
   ]
  },
  {
   "cell_type": "markdown",
   "id": "87481081",
   "metadata": {},
   "source": [
    "### Train & Test"
   ]
  },
  {
   "cell_type": "code",
   "execution_count": 25,
   "id": "e741acdd",
   "metadata": {},
   "outputs": [],
   "source": [
    "X_train, X_test, y_train, y_test = train_test_split(features, target, test_size=0.25, random_state=42)"
   ]
  },
  {
   "cell_type": "markdown",
   "id": "36529420",
   "metadata": {},
   "source": [
    "### Подбор гипперпараметров модели"
   ]
  },
  {
   "cell_type": "code",
   "execution_count": 46,
   "id": "992e30db",
   "metadata": {},
   "outputs": [
    {
     "data": {
      "text/html": [
       "<b>Гипперпараметры n_estimators:</b> <code>147</code>, <b>learning_rate:</b> <code>0.68</code>"
      ],
      "text/plain": [
       "<IPython.core.display.HTML object>"
      ]
     },
     "metadata": {},
     "output_type": "display_data"
    },
    {
     "data": {
      "text/html": [
       "<b>Лучший precision_score: </b> <code>0.881</code>"
      ],
      "text/plain": [
       "<IPython.core.display.HTML object>"
      ]
     },
     "metadata": {},
     "output_type": "display_data"
    },
    {
     "data": {
      "text/html": [
       "<b>Время обучения: </b> <code>191.052</code> c"
      ],
      "text/plain": [
       "<IPython.core.display.HTML object>"
      ]
     },
     "metadata": {},
     "output_type": "display_data"
    }
   ],
   "source": [
    "best_score = 0\n",
    "estimators, learning_r = 0, 0\n",
    "start_time = time.time()\n",
    "\n",
    "for i in np.arange(140, 152, 1):\n",
    "    for j in np.arange(0.64, 0.73, 0.01):\n",
    "        model = CatBoostClassifier(n_estimators=i,\n",
    "                                  learning_rate=j,\n",
    "                                  depth=3,\n",
    "                                  cat_features=cat_features,\n",
    "                                  verbose=False,\n",
    "                                  random_state=12345,\n",
    "                                  )\n",
    "\n",
    "        n_scores = cross_val_score(model,\n",
    "                                   X_train,\n",
    "                                   y_train,\n",
    "                                   scoring='precision_macro',\n",
    "                                   cv=5,\n",
    "                                   n_jobs=-1,\n",
    "                                   error_score='raise'\n",
    "                                  )\n",
    "\n",
    "        score = np.mean(np.abs(n_scores))\n",
    "\n",
    "        if score > best_score:\n",
    "            best_score = score\n",
    "            estimators = i\n",
    "            learning_r = j\n",
    "\n",
    "fit_time = time.time() - start_time\n",
    "\n",
    "display(HTML(f'<b>Гипперпараметры n_estimators:</b> <code>{estimators}</code>, <b>learning_rate:</b> <code>{learning_r:,.2f}</code>'))\n",
    "display(HTML(f'<b>Лучший precision_score: </b> <code>{best_score:,.3f}</code>'))\n",
    "display(HTML(f'<b>Время обучения: </b> <code>{fit_time:,.3f}</code> c'))"
   ]
  },
  {
   "cell_type": "markdown",
   "id": "2883736a",
   "metadata": {},
   "source": [
    "## Тестирование модели"
   ]
  },
  {
   "cell_type": "code",
   "execution_count": 47,
   "id": "a35628b7",
   "metadata": {},
   "outputs": [
    {
     "data": {
      "text/html": [
       "<b>precision_score на тестовой выборке: </b> <code>0.876</code>"
      ],
      "text/plain": [
       "<IPython.core.display.HTML object>"
      ]
     },
     "metadata": {},
     "output_type": "display_data"
    }
   ],
   "source": [
    "model = CatBoostClassifier(n_estimators=estimators,\n",
    "                          learning_rate=learning_r,\n",
    "                          depth=3,\n",
    "                          cat_features=cat_features,\n",
    "                          verbose=False,\n",
    "                          random_state=12345,\n",
    "                         )\n",
    "model.fit(X_train, y_train)\n",
    "score_test = precision_score(y_test, model.predict(X_test), average='macro')\n",
    "\n",
    "display(HTML(f'<b>precision_score на тестовой выборке: </b> <code>{score_test:,.3f}</code>'))"
   ]
  },
  {
   "cell_type": "markdown",
   "id": "a0631f5f",
   "metadata": {},
   "source": [
    "## Feature importances"
   ]
  },
  {
   "cell_type": "code",
   "execution_count": 48,
   "id": "4c37ed9a",
   "metadata": {},
   "outputs": [],
   "source": [
    "fi = pd.DataFrame({'feature_importances':model.feature_importances_}, index=features.columns).sort_values(by='feature_importances', ascending=False)"
   ]
  },
  {
   "cell_type": "code",
   "execution_count": 49,
   "id": "dfa5dd29",
   "metadata": {},
   "outputs": [
    {
     "data": {
      "image/png": "[encoded data removed]",
      "text/plain": [
       "<Figure size 1440x480 with 1 Axes>"
      ]
     },
     "metadata": {},
     "output_type": "display_data"
    }
   ],
   "source": [
    "fig = plt.figure()\n",
    "fig.suptitle(f'График важности признаков', x=.5, y=.95, fontsize=18)\n",
    "sns.barplot(data=fi, x='feature_importances', y=fi.index, linewidth=1, edgecolor='black')\n",
    "plt.grid(True, axis='x', linestyle=':', linewidth=1)\n",
    "plt.tick_params(axis='both', direction='out', length=6, width=1)\n",
    "plt.ylabel('')\n",
    "plt.xlabel('')\n",
    "plt.yticks(fontsize=14)\n",
    "plt.xticks(list(range(0,90,10)), fontsize=14)\n",
    "plt.show()"
   ]
  }
 ],
 "metadata": {
  "kernelspec": {
   "display_name": "Python 3",
   "language": "python",
   "name": "python3"
  },
  "language_info": {
   "codemirror_mode": {
    "name": "ipython",
    "version": 3
   },
   "file_extension": ".py",
   "mimetype": "text/x-python",
   "name": "python",
   "nbconvert_exporter": "python",
   "pygments_lexer": "ipython3",
   "version": "3.8.8"
  },
  "toc": {
   "base_numbering": 1,
   "nav_menu": {},
   "number_sections": false,
   "sideBar": true,
   "skip_h1_title": false,
   "title_cell": "Table of Contents",
   "title_sidebar": "Contents",
   "toc_cell": true,
   "toc_position": {},
   "toc_section_display": true,
   "toc_window_display": true
  }
 },
 "nbformat": 4,
 "nbformat_minor": 5
}
